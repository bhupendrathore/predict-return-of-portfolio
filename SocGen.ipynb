{
 "cells": [
  {
   "cell_type": "code",
   "execution_count": 1,
   "metadata": {
    "collapsed": true
   },
   "outputs": [],
   "source": [
    "import numpy as np\n",
    "import pandas as pd\n",
    "import matplotlib.pyplot as plt\n",
    "import seaborn as sns\n"
   ]
  },
  {
   "cell_type": "code",
   "execution_count": 96,
   "metadata": {
    "scrolled": true
   },
   "outputs": [
    {
     "data": {
      "text/html": [
       "<div>\n",
       "<style>\n",
       "    .dataframe thead tr:only-child th {\n",
       "        text-align: right;\n",
       "    }\n",
       "\n",
       "    .dataframe thead th {\n",
       "        text-align: left;\n",
       "    }\n",
       "\n",
       "    .dataframe tbody tr th {\n",
       "        vertical-align: top;\n",
       "    }\n",
       "</style>\n",
       "<table border=\"1\" class=\"dataframe\">\n",
       "  <thead>\n",
       "    <tr style=\"text-align: right;\">\n",
       "      <th></th>\n",
       "      <th>portfolio_id</th>\n",
       "      <th>desk_id</th>\n",
       "      <th>office_id</th>\n",
       "      <th>pf_category</th>\n",
       "      <th>start_date</th>\n",
       "      <th>sold</th>\n",
       "      <th>country_code</th>\n",
       "      <th>euribor_rate</th>\n",
       "      <th>currency</th>\n",
       "      <th>libor_rate</th>\n",
       "      <th>bought</th>\n",
       "      <th>creation_date</th>\n",
       "      <th>indicator_code</th>\n",
       "      <th>sell_date</th>\n",
       "      <th>type</th>\n",
       "      <th>hedge_value</th>\n",
       "      <th>status</th>\n",
       "      <th>return</th>\n",
       "    </tr>\n",
       "  </thead>\n",
       "  <tbody>\n",
       "    <tr>\n",
       "      <th>0</th>\n",
       "      <td>PF00001002</td>\n",
       "      <td>DSK00001001</td>\n",
       "      <td>OFF00001002</td>\n",
       "      <td>B</td>\n",
       "      <td>20040720</td>\n",
       "      <td>110000000.0</td>\n",
       "      <td>T</td>\n",
       "      <td>0.02074</td>\n",
       "      <td>USD</td>\n",
       "      <td>2.332216</td>\n",
       "      <td>1.098097e+08</td>\n",
       "      <td>20040720</td>\n",
       "      <td>NaN</td>\n",
       "      <td>20040812</td>\n",
       "      <td>B</td>\n",
       "      <td>NaN</td>\n",
       "      <td>NaN</td>\n",
       "      <td>0.02496</td>\n",
       "    </tr>\n",
       "    <tr>\n",
       "      <th>1</th>\n",
       "      <td>PF00001003</td>\n",
       "      <td>DSK00001002</td>\n",
       "      <td>OFF00001001</td>\n",
       "      <td>A</td>\n",
       "      <td>20040709</td>\n",
       "      <td>176671000.0</td>\n",
       "      <td>N</td>\n",
       "      <td>0.02074</td>\n",
       "      <td>GBP</td>\n",
       "      <td>5.269617</td>\n",
       "      <td>1.760084e+08</td>\n",
       "      <td>20040723</td>\n",
       "      <td>NaN</td>\n",
       "      <td>20040812</td>\n",
       "      <td>C</td>\n",
       "      <td>NaN</td>\n",
       "      <td>NaN</td>\n",
       "      <td>0.05496</td>\n",
       "    </tr>\n",
       "    <tr>\n",
       "      <th>2</th>\n",
       "      <td>PF00001005</td>\n",
       "      <td>DSK00001004</td>\n",
       "      <td>OFF00001001</td>\n",
       "      <td>A</td>\n",
       "      <td>20040723</td>\n",
       "      <td>56474000.0</td>\n",
       "      <td>T</td>\n",
       "      <td>0.02074</td>\n",
       "      <td>USD</td>\n",
       "      <td>2.332216</td>\n",
       "      <td>5.637953e+07</td>\n",
       "      <td>20040723</td>\n",
       "      <td>NaN</td>\n",
       "      <td>20040817</td>\n",
       "      <td>A</td>\n",
       "      <td>NaN</td>\n",
       "      <td>NaN</td>\n",
       "      <td>0.02496</td>\n",
       "    </tr>\n",
       "    <tr>\n",
       "      <th>3</th>\n",
       "      <td>PF00001006</td>\n",
       "      <td>DSK00001005</td>\n",
       "      <td>OFF00001001</td>\n",
       "      <td>A</td>\n",
       "      <td>20040609</td>\n",
       "      <td>164813000.0</td>\n",
       "      <td>T</td>\n",
       "      <td>0.02074</td>\n",
       "      <td>USD</td>\n",
       "      <td>2.332216</td>\n",
       "      <td>1.645088e+08</td>\n",
       "      <td>20040723</td>\n",
       "      <td>NaN</td>\n",
       "      <td>20040713</td>\n",
       "      <td>A</td>\n",
       "      <td>NaN</td>\n",
       "      <td>NaN</td>\n",
       "      <td>0.02496</td>\n",
       "    </tr>\n",
       "    <tr>\n",
       "      <th>4</th>\n",
       "      <td>PF00001007</td>\n",
       "      <td>DSK00001005</td>\n",
       "      <td>OFF00001002</td>\n",
       "      <td>B</td>\n",
       "      <td>20040609</td>\n",
       "      <td>140800000.0</td>\n",
       "      <td>T</td>\n",
       "      <td>0.02074</td>\n",
       "      <td>USD</td>\n",
       "      <td>2.332216</td>\n",
       "      <td>1.405402e+08</td>\n",
       "      <td>20040723</td>\n",
       "      <td>NaN</td>\n",
       "      <td>20040713</td>\n",
       "      <td>B</td>\n",
       "      <td>NaN</td>\n",
       "      <td>NaN</td>\n",
       "      <td>0.02496</td>\n",
       "    </tr>\n",
       "  </tbody>\n",
       "</table>\n",
       "</div>"
      ],
      "text/plain": [
       "  portfolio_id      desk_id    office_id pf_category  start_date         sold  \\\n",
       "0   PF00001002  DSK00001001  OFF00001002           B    20040720  110000000.0   \n",
       "1   PF00001003  DSK00001002  OFF00001001           A    20040709  176671000.0   \n",
       "2   PF00001005  DSK00001004  OFF00001001           A    20040723   56474000.0   \n",
       "3   PF00001006  DSK00001005  OFF00001001           A    20040609  164813000.0   \n",
       "4   PF00001007  DSK00001005  OFF00001002           B    20040609  140800000.0   \n",
       "\n",
       "  country_code  euribor_rate currency  libor_rate        bought  \\\n",
       "0            T       0.02074      USD    2.332216  1.098097e+08   \n",
       "1            N       0.02074      GBP    5.269617  1.760084e+08   \n",
       "2            T       0.02074      USD    2.332216  5.637953e+07   \n",
       "3            T       0.02074      USD    2.332216  1.645088e+08   \n",
       "4            T       0.02074      USD    2.332216  1.405402e+08   \n",
       "\n",
       "   creation_date indicator_code  sell_date type hedge_value status   return  \n",
       "0       20040720            NaN   20040812    B         NaN    NaN  0.02496  \n",
       "1       20040723            NaN   20040812    C         NaN    NaN  0.05496  \n",
       "2       20040723            NaN   20040817    A         NaN    NaN  0.02496  \n",
       "3       20040723            NaN   20040713    A         NaN    NaN  0.02496  \n",
       "4       20040723            NaN   20040713    B         NaN    NaN  0.02496  "
      ]
     },
     "execution_count": 96,
     "metadata": {},
     "output_type": "execute_result"
    }
   ],
   "source": [
    "data = pd.read_csv('train.csv')\n",
    "data.head()"
   ]
  },
  {
   "cell_type": "code",
   "execution_count": 3,
   "metadata": {},
   "outputs": [
    {
     "data": {
      "image/png": "[encoded data removed]",
      "text/plain": [
       "<matplotlib.figure.Figure at 0x217636332e8>"
      ]
     },
     "metadata": {},
     "output_type": "display_data"
    }
   ],
   "source": [
    "f,ax = plt.subplots(figsize=(18, 18))\n",
    "sns.heatmap(data.corr(), annot=True, linewidths=.5, fmt= '.1f',ax=ax)\n",
    "plt.show()"
   ]
  },
  {
   "cell_type": "code",
   "execution_count": 8,
   "metadata": {
    "collapsed": true
   },
   "outputs": [
    {
     "data": {
      "image/png": "[encoded data removed]",
      "text/plain": [
       "<matplotlib.figure.Figure at 0x21e11900a58>"
      ]
     },
     "metadata": {},
     "output_type": "display_data"
    },
    {
     "data": {
      "image/png": "[encoded data removed]",
      "text/plain": [
       "<matplotlib.figure.Figure at 0x21e1204dcc0>"
      ]
     },
     "metadata": {},
     "output_type": "display_data"
    }
   ],
   "source": [
    "data1 = data.loc[:,:]\n",
    "data1.plot()\n",
    "plt.show()"
   ]
  },
  {
   "cell_type": "code",
   "execution_count": 9,
   "metadata": {
    "collapsed": true
   },
   "outputs": [
    {
     "data": {
      "image/png": "[encoded data removed]",
      "text/plain": [
       "<matplotlib.figure.Figure at 0x21e12271160>"
      ]
     },
     "metadata": {},
     "output_type": "display_data"
    }
   ],
   "source": [
    "# subplots\n",
    "data1.plot(subplots = True)\n",
    "plt.show()"
   ]
  },
  {
   "cell_type": "code",
   "execution_count": 15,
   "metadata": {
    "collapsed": true
   },
   "outputs": [
    {
     "data": {
      "image/png": "[encoded data removed]",
      "text/plain": [
       "<matplotlib.figure.Figure at 0x21e129804e0>"
      ]
     },
     "metadata": {},
     "output_type": "display_data"
    }
   ],
   "source": [
    "data1.plot(kind = \"scatter\",x=\"creation_date\",y = \"return\")\n",
    "plt.show()\n"
   ]
  },
  {
   "cell_type": "code",
   "execution_count": 97,
   "metadata": {},
   "outputs": [
    {
     "data": {
      "image/png": "[encoded data removed]",
      "text/plain": [
       "<matplotlib.figure.Figure at 0x21763e1abe0>"
      ]
     },
     "metadata": {},
     "output_type": "display_data"
    }
   ],
   "source": [
    "country=data.groupby('country_code').count()['portfolio_id']\n",
    "sns.barplot(country.index,country.values)\n",
    "plt.show()"
   ]
  },
  {
   "cell_type": "code",
   "execution_count": null,
   "metadata": {
    "collapsed": true
   },
   "outputs": [],
   "source": []
  },
  {
   "cell_type": "code",
   "execution_count": 98,
   "metadata": {},
   "outputs": [
    {
     "data": {
      "image/png": "[encoded data removed]",
      "text/plain": [
       "<matplotlib.figure.Figure at 0x21763da0d30>"
      ]
     },
     "metadata": {},
     "output_type": "display_data"
    }
   ],
   "source": [
    "country_return_sum = data.groupby('country_code').sum()['return']\n",
    "sns.barplot(country_return_sum.index,country_return_sum.values)\n",
    "plt.show()\n",
    "\n",
    "#country_return_sum"
   ]
  },
  {
   "cell_type": "code",
   "execution_count": 99,
   "metadata": {},
   "outputs": [
    {
     "data": {
      "text/plain": [
       "country_code\n",
       "M    0.006641\n",
       "N    0.023418\n",
       "T    0.018381\n",
       "U   -0.001524\n",
       "Z    0.061187\n",
       "dtype: float64"
      ]
     },
     "execution_count": 99,
     "metadata": {},
     "output_type": "execute_result"
    }
   ],
   "source": [
    "unit_return_country = country_return_sum/country\n",
    "unit_return_country"
   ]
  },
  {
   "cell_type": "code",
   "execution_count": 100,
   "metadata": {
    "collapsed": true
   },
   "outputs": [],
   "source": [
    "temp =pd.DataFrame(unit_return_country)\n",
    "temp.columns=[['unit_return']]\n",
    "temp['country_code']=temp.index"
   ]
  },
  {
   "cell_type": "markdown",
   "metadata": {},
   "source": [
    "temp"
   ]
  },
  {
   "cell_type": "code",
   "execution_count": 101,
   "metadata": {
    "collapsed": true
   },
   "outputs": [],
   "source": [
    "data=data.merge(temp,how='left',on='country_code')\n",
    "#del temp"
   ]
  },
  {
   "cell_type": "code",
   "execution_count": 102,
   "metadata": {},
   "outputs": [
    {
     "data": {
      "text/html": [
       "<div>\n",
       "<style>\n",
       "    .dataframe thead tr:only-child th {\n",
       "        text-align: right;\n",
       "    }\n",
       "\n",
       "    .dataframe thead th {\n",
       "        text-align: left;\n",
       "    }\n",
       "\n",
       "    .dataframe tbody tr th {\n",
       "        vertical-align: top;\n",
       "    }\n",
       "</style>\n",
       "<table border=\"1\" class=\"dataframe\">\n",
       "  <thead>\n",
       "    <tr style=\"text-align: right;\">\n",
       "      <th></th>\n",
       "      <th>portfolio_id</th>\n",
       "      <th>desk_id</th>\n",
       "      <th>office_id</th>\n",
       "      <th>pf_category</th>\n",
       "      <th>start_date</th>\n",
       "      <th>sold</th>\n",
       "      <th>euribor_rate</th>\n",
       "      <th>currency</th>\n",
       "      <th>libor_rate</th>\n",
       "      <th>bought</th>\n",
       "      <th>creation_date</th>\n",
       "      <th>indicator_code</th>\n",
       "      <th>sell_date</th>\n",
       "      <th>type</th>\n",
       "      <th>hedge_value</th>\n",
       "      <th>status</th>\n",
       "      <th>return</th>\n",
       "      <th>unit_return</th>\n",
       "    </tr>\n",
       "  </thead>\n",
       "  <tbody>\n",
       "    <tr>\n",
       "      <th>0</th>\n",
       "      <td>PF00001002</td>\n",
       "      <td>DSK00001001</td>\n",
       "      <td>OFF00001002</td>\n",
       "      <td>B</td>\n",
       "      <td>20040720</td>\n",
       "      <td>110000000.0</td>\n",
       "      <td>0.02074</td>\n",
       "      <td>USD</td>\n",
       "      <td>2.332216</td>\n",
       "      <td>1.098097e+08</td>\n",
       "      <td>20040720</td>\n",
       "      <td>NaN</td>\n",
       "      <td>20040812</td>\n",
       "      <td>B</td>\n",
       "      <td>NaN</td>\n",
       "      <td>NaN</td>\n",
       "      <td>0.02496</td>\n",
       "      <td>0.018381</td>\n",
       "    </tr>\n",
       "    <tr>\n",
       "      <th>1</th>\n",
       "      <td>PF00001003</td>\n",
       "      <td>DSK00001002</td>\n",
       "      <td>OFF00001001</td>\n",
       "      <td>A</td>\n",
       "      <td>20040709</td>\n",
       "      <td>176671000.0</td>\n",
       "      <td>0.02074</td>\n",
       "      <td>GBP</td>\n",
       "      <td>5.269617</td>\n",
       "      <td>1.760084e+08</td>\n",
       "      <td>20040723</td>\n",
       "      <td>NaN</td>\n",
       "      <td>20040812</td>\n",
       "      <td>C</td>\n",
       "      <td>NaN</td>\n",
       "      <td>NaN</td>\n",
       "      <td>0.05496</td>\n",
       "      <td>0.023418</td>\n",
       "    </tr>\n",
       "    <tr>\n",
       "      <th>2</th>\n",
       "      <td>PF00001005</td>\n",
       "      <td>DSK00001004</td>\n",
       "      <td>OFF00001001</td>\n",
       "      <td>A</td>\n",
       "      <td>20040723</td>\n",
       "      <td>56474000.0</td>\n",
       "      <td>0.02074</td>\n",
       "      <td>USD</td>\n",
       "      <td>2.332216</td>\n",
       "      <td>5.637953e+07</td>\n",
       "      <td>20040723</td>\n",
       "      <td>NaN</td>\n",
       "      <td>20040817</td>\n",
       "      <td>A</td>\n",
       "      <td>NaN</td>\n",
       "      <td>NaN</td>\n",
       "      <td>0.02496</td>\n",
       "      <td>0.018381</td>\n",
       "    </tr>\n",
       "    <tr>\n",
       "      <th>3</th>\n",
       "      <td>PF00001006</td>\n",
       "      <td>DSK00001005</td>\n",
       "      <td>OFF00001001</td>\n",
       "      <td>A</td>\n",
       "      <td>20040609</td>\n",
       "      <td>164813000.0</td>\n",
       "      <td>0.02074</td>\n",
       "      <td>USD</td>\n",
       "      <td>2.332216</td>\n",
       "      <td>1.645088e+08</td>\n",
       "      <td>20040723</td>\n",
       "      <td>NaN</td>\n",
       "      <td>20040713</td>\n",
       "      <td>A</td>\n",
       "      <td>NaN</td>\n",
       "      <td>NaN</td>\n",
       "      <td>0.02496</td>\n",
       "      <td>0.018381</td>\n",
       "    </tr>\n",
       "    <tr>\n",
       "      <th>4</th>\n",
       "      <td>PF00001007</td>\n",
       "      <td>DSK00001005</td>\n",
       "      <td>OFF00001002</td>\n",
       "      <td>B</td>\n",
       "      <td>20040609</td>\n",
       "      <td>140800000.0</td>\n",
       "      <td>0.02074</td>\n",
       "      <td>USD</td>\n",
       "      <td>2.332216</td>\n",
       "      <td>1.405402e+08</td>\n",
       "      <td>20040723</td>\n",
       "      <td>NaN</td>\n",
       "      <td>20040713</td>\n",
       "      <td>B</td>\n",
       "      <td>NaN</td>\n",
       "      <td>NaN</td>\n",
       "      <td>0.02496</td>\n",
       "      <td>0.018381</td>\n",
       "    </tr>\n",
       "  </tbody>\n",
       "</table>\n",
       "</div>"
      ],
      "text/plain": [
       "  portfolio_id      desk_id    office_id pf_category  start_date         sold  \\\n",
       "0   PF00001002  DSK00001001  OFF00001002           B    20040720  110000000.0   \n",
       "1   PF00001003  DSK00001002  OFF00001001           A    20040709  176671000.0   \n",
       "2   PF00001005  DSK00001004  OFF00001001           A    20040723   56474000.0   \n",
       "3   PF00001006  DSK00001005  OFF00001001           A    20040609  164813000.0   \n",
       "4   PF00001007  DSK00001005  OFF00001002           B    20040609  140800000.0   \n",
       "\n",
       "   euribor_rate currency  libor_rate        bought  creation_date  \\\n",
       "0       0.02074      USD    2.332216  1.098097e+08       20040720   \n",
       "1       0.02074      GBP    5.269617  1.760084e+08       20040723   \n",
       "2       0.02074      USD    2.332216  5.637953e+07       20040723   \n",
       "3       0.02074      USD    2.332216  1.645088e+08       20040723   \n",
       "4       0.02074      USD    2.332216  1.405402e+08       20040723   \n",
       "\n",
       "  indicator_code  sell_date type hedge_value status   return  unit_return  \n",
       "0            NaN   20040812    B         NaN    NaN  0.02496     0.018381  \n",
       "1            NaN   20040812    C         NaN    NaN  0.05496     0.023418  \n",
       "2            NaN   20040817    A         NaN    NaN  0.02496     0.018381  \n",
       "3            NaN   20040713    A         NaN    NaN  0.02496     0.018381  \n",
       "4            NaN   20040713    B         NaN    NaN  0.02496     0.018381  "
      ]
     },
     "execution_count": 102,
     "metadata": {},
     "output_type": "execute_result"
    }
   ],
   "source": [
    "data=data.drop(['country_code'],axis=1)\n",
    "data.head()"
   ]
  },
  {
   "cell_type": "code",
   "execution_count": 103,
   "metadata": {},
   "outputs": [
    {
     "data": {
      "image/png": "[encoded data removed]",
      "text/plain": [
       "<matplotlib.figure.Figure at 0x21763ca20f0>"
      ]
     },
     "metadata": {},
     "output_type": "display_data"
    },
    {
     "data": {
      "image/png": "[encoded data removed]",
      "text/plain": [
       "<matplotlib.figure.Figure at 0x21763caaac8>"
      ]
     },
     "metadata": {},
     "output_type": "display_data"
    },
    {
     "data": {
      "text/html": [
       "<div>\n",
       "<style>\n",
       "    .dataframe thead tr:only-child th {\n",
       "        text-align: right;\n",
       "    }\n",
       "\n",
       "    .dataframe thead th {\n",
       "        text-align: left;\n",
       "    }\n",
       "\n",
       "    .dataframe tbody tr th {\n",
       "        vertical-align: top;\n",
       "    }\n",
       "</style>\n",
       "<table border=\"1\" class=\"dataframe\">\n",
       "  <thead>\n",
       "    <tr style=\"text-align: right;\">\n",
       "      <th></th>\n",
       "      <th>pf_cat</th>\n",
       "      <th>pf_category</th>\n",
       "    </tr>\n",
       "    <tr>\n",
       "      <th>pf_category</th>\n",
       "      <th></th>\n",
       "      <th></th>\n",
       "    </tr>\n",
       "  </thead>\n",
       "  <tbody>\n",
       "    <tr>\n",
       "      <th>A</th>\n",
       "      <td>0.024283</td>\n",
       "      <td>A</td>\n",
       "    </tr>\n",
       "    <tr>\n",
       "      <th>B</th>\n",
       "      <td>0.007685</td>\n",
       "      <td>B</td>\n",
       "    </tr>\n",
       "    <tr>\n",
       "      <th>C</th>\n",
       "      <td>0.006618</td>\n",
       "      <td>C</td>\n",
       "    </tr>\n",
       "    <tr>\n",
       "      <th>D</th>\n",
       "      <td>0.061714</td>\n",
       "      <td>D</td>\n",
       "    </tr>\n",
       "    <tr>\n",
       "      <th>E</th>\n",
       "      <td>0.066380</td>\n",
       "      <td>E</td>\n",
       "    </tr>\n",
       "  </tbody>\n",
       "</table>\n",
       "</div>"
      ],
      "text/plain": [
       "               pf_cat pf_category\n",
       "pf_category                      \n",
       "A            0.024283           A\n",
       "B            0.007685           B\n",
       "C            0.006618           C\n",
       "D            0.061714           D\n",
       "E            0.066380           E"
      ]
     },
     "execution_count": 103,
     "metadata": {},
     "output_type": "execute_result"
    }
   ],
   "source": [
    "pf_cat=data.groupby('pf_category').sum()['return']\n",
    "\n",
    "sns.barplot(pf_cat.index,pf_cat.values)\n",
    "plt.show()\n",
    "pf_cat_count = data.groupby('pf_category').count()['portfolio_id']\n",
    "sns.barplot(pf_cat_count.index,pf_cat_count.values)\n",
    "plt.show()\n",
    "pf_cat= pf_cat/pf_cat_count\n",
    "pf_cat_df = pd.DataFrame(pf_cat)\n",
    "pf_cat_df.columns=[['pf_cat']]\n",
    "pf_cat_df['pf_category']=pf_cat_df.index\n",
    "pf_cat_df"
   ]
  },
  {
   "cell_type": "code",
   "execution_count": 104,
   "metadata": {
    "scrolled": true
   },
   "outputs": [],
   "source": [
    "data=data.merge(pf_cat_df,how='left',on='pf_category')\n",
    "data=data.drop(['pf_category'],axis=1)\n"
   ]
  },
  {
   "cell_type": "code",
   "execution_count": 105,
   "metadata": {},
   "outputs": [
    {
     "data": {
      "text/plain": [
       "'OFF00001002'"
      ]
     },
     "execution_count": 105,
     "metadata": {},
     "output_type": "execute_result"
    }
   ],
   "source": [
    "\n",
    "data.groupby('office_id').count()['portfolio_id'].argmax()"
   ]
  },
  {
   "cell_type": "code",
   "execution_count": 106,
   "metadata": {},
   "outputs": [
    {
     "data": {
      "text/html": [
       "<div>\n",
       "<style>\n",
       "    .dataframe thead tr:only-child th {\n",
       "        text-align: right;\n",
       "    }\n",
       "\n",
       "    .dataframe thead th {\n",
       "        text-align: left;\n",
       "    }\n",
       "\n",
       "    .dataframe tbody tr th {\n",
       "        vertical-align: top;\n",
       "    }\n",
       "</style>\n",
       "<table border=\"1\" class=\"dataframe\">\n",
       "  <thead>\n",
       "    <tr style=\"text-align: right;\">\n",
       "      <th></th>\n",
       "      <th>portfolio_id</th>\n",
       "      <th>desk_id</th>\n",
       "      <th>office_id</th>\n",
       "      <th>start_date</th>\n",
       "      <th>sold</th>\n",
       "      <th>euribor_rate</th>\n",
       "      <th>currency</th>\n",
       "      <th>libor_rate</th>\n",
       "      <th>bought</th>\n",
       "      <th>creation_date</th>\n",
       "      <th>indicator_code</th>\n",
       "      <th>sell_date</th>\n",
       "      <th>type</th>\n",
       "      <th>hedge_value</th>\n",
       "      <th>status</th>\n",
       "      <th>return</th>\n",
       "      <th>unit_return</th>\n",
       "      <th>pf_cat</th>\n",
       "      <th>profit_loss</th>\n",
       "    </tr>\n",
       "  </thead>\n",
       "  <tbody>\n",
       "    <tr>\n",
       "      <th>0</th>\n",
       "      <td>PF00001002</td>\n",
       "      <td>DSK00001001</td>\n",
       "      <td>OFF00001002</td>\n",
       "      <td>20040720</td>\n",
       "      <td>110000000.0</td>\n",
       "      <td>0.02074</td>\n",
       "      <td>USD</td>\n",
       "      <td>2.332216</td>\n",
       "      <td>1.098097e+08</td>\n",
       "      <td>20040720</td>\n",
       "      <td>NaN</td>\n",
       "      <td>20040812</td>\n",
       "      <td>B</td>\n",
       "      <td>NaN</td>\n",
       "      <td>NaN</td>\n",
       "      <td>0.02496</td>\n",
       "      <td>0.018381</td>\n",
       "      <td>0.007685</td>\n",
       "      <td>190336.749636</td>\n",
       "    </tr>\n",
       "    <tr>\n",
       "      <th>1</th>\n",
       "      <td>PF00001003</td>\n",
       "      <td>DSK00001002</td>\n",
       "      <td>OFF00001001</td>\n",
       "      <td>20040709</td>\n",
       "      <td>176671000.0</td>\n",
       "      <td>0.02074</td>\n",
       "      <td>GBP</td>\n",
       "      <td>5.269617</td>\n",
       "      <td>1.760084e+08</td>\n",
       "      <td>20040723</td>\n",
       "      <td>NaN</td>\n",
       "      <td>20040812</td>\n",
       "      <td>C</td>\n",
       "      <td>NaN</td>\n",
       "      <td>NaN</td>\n",
       "      <td>0.05496</td>\n",
       "      <td>0.023418</td>\n",
       "      <td>0.024283</td>\n",
       "      <td>662563.265958</td>\n",
       "    </tr>\n",
       "    <tr>\n",
       "      <th>2</th>\n",
       "      <td>PF00001005</td>\n",
       "      <td>DSK00001004</td>\n",
       "      <td>OFF00001001</td>\n",
       "      <td>20040723</td>\n",
       "      <td>56474000.0</td>\n",
       "      <td>0.02074</td>\n",
       "      <td>USD</td>\n",
       "      <td>2.332216</td>\n",
       "      <td>5.637953e+07</td>\n",
       "      <td>20040723</td>\n",
       "      <td>NaN</td>\n",
       "      <td>20040817</td>\n",
       "      <td>A</td>\n",
       "      <td>NaN</td>\n",
       "      <td>NaN</td>\n",
       "      <td>0.02496</td>\n",
       "      <td>0.018381</td>\n",
       "      <td>0.024283</td>\n",
       "      <td>94467.039667</td>\n",
       "    </tr>\n",
       "    <tr>\n",
       "      <th>3</th>\n",
       "      <td>PF00001006</td>\n",
       "      <td>DSK00001005</td>\n",
       "      <td>OFF00001001</td>\n",
       "      <td>20040609</td>\n",
       "      <td>164813000.0</td>\n",
       "      <td>0.02074</td>\n",
       "      <td>USD</td>\n",
       "      <td>2.332216</td>\n",
       "      <td>1.645088e+08</td>\n",
       "      <td>20040723</td>\n",
       "      <td>NaN</td>\n",
       "      <td>20040713</td>\n",
       "      <td>A</td>\n",
       "      <td>NaN</td>\n",
       "      <td>NaN</td>\n",
       "      <td>0.02496</td>\n",
       "      <td>0.018381</td>\n",
       "      <td>0.024283</td>\n",
       "      <td>304158.569044</td>\n",
       "    </tr>\n",
       "    <tr>\n",
       "      <th>4</th>\n",
       "      <td>PF00001007</td>\n",
       "      <td>DSK00001005</td>\n",
       "      <td>OFF00001002</td>\n",
       "      <td>20040609</td>\n",
       "      <td>140800000.0</td>\n",
       "      <td>0.02074</td>\n",
       "      <td>USD</td>\n",
       "      <td>2.332216</td>\n",
       "      <td>1.405402e+08</td>\n",
       "      <td>20040723</td>\n",
       "      <td>NaN</td>\n",
       "      <td>20040713</td>\n",
       "      <td>B</td>\n",
       "      <td>NaN</td>\n",
       "      <td>NaN</td>\n",
       "      <td>0.02496</td>\n",
       "      <td>0.018381</td>\n",
       "      <td>0.007685</td>\n",
       "      <td>259843.134474</td>\n",
       "    </tr>\n",
       "  </tbody>\n",
       "</table>\n",
       "</div>"
      ],
      "text/plain": [
       "  portfolio_id      desk_id    office_id  start_date         sold  \\\n",
       "0   PF00001002  DSK00001001  OFF00001002    20040720  110000000.0   \n",
       "1   PF00001003  DSK00001002  OFF00001001    20040709  176671000.0   \n",
       "2   PF00001005  DSK00001004  OFF00001001    20040723   56474000.0   \n",
       "3   PF00001006  DSK00001005  OFF00001001    20040609  164813000.0   \n",
       "4   PF00001007  DSK00001005  OFF00001002    20040609  140800000.0   \n",
       "\n",
       "   euribor_rate currency  libor_rate        bought  creation_date  \\\n",
       "0       0.02074      USD    2.332216  1.098097e+08       20040720   \n",
       "1       0.02074      GBP    5.269617  1.760084e+08       20040723   \n",
       "2       0.02074      USD    2.332216  5.637953e+07       20040723   \n",
       "3       0.02074      USD    2.332216  1.645088e+08       20040723   \n",
       "4       0.02074      USD    2.332216  1.405402e+08       20040723   \n",
       "\n",
       "  indicator_code  sell_date type hedge_value status   return  unit_return  \\\n",
       "0            NaN   20040812    B         NaN    NaN  0.02496     0.018381   \n",
       "1            NaN   20040812    C         NaN    NaN  0.05496     0.023418   \n",
       "2            NaN   20040817    A         NaN    NaN  0.02496     0.018381   \n",
       "3            NaN   20040713    A         NaN    NaN  0.02496     0.018381   \n",
       "4            NaN   20040713    B         NaN    NaN  0.02496     0.018381   \n",
       "\n",
       "     pf_cat    profit_loss  \n",
       "0  0.007685  190336.749636  \n",
       "1  0.024283  662563.265958  \n",
       "2  0.024283   94467.039667  \n",
       "3  0.024283  304158.569044  \n",
       "4  0.007685  259843.134474  "
      ]
     },
     "execution_count": 106,
     "metadata": {},
     "output_type": "execute_result"
    }
   ],
   "source": [
    "data['profit_loss']=data.sold-data.bought\n",
    "data.head()"
   ]
  },
  {
   "cell_type": "code",
   "execution_count": 107,
   "metadata": {
    "scrolled": true
   },
   "outputs": [
    {
     "data": {
      "image/png": "[encoded data removed]",
      "text/plain": [
       "<matplotlib.figure.Figure at 0x21763e35b38>"
      ]
     },
     "metadata": {},
     "output_type": "display_data"
    }
   ],
   "source": [
    "return_type=data.groupby('type')['return'].sum()/data.groupby('type').count()['portfolio_id']\n",
    "sns.barplot(return_type.index,return_type.values)\n",
    "plt.show()\n",
    "return_type_df = pd.DataFrame(return_type)\n",
    "return_type_df.columns=[['return_type']]\n",
    "return_type_df['type'] = return_type_df.index\n",
    "data=data.merge(return_type_df,how='left',on='type')\n",
    "data=data.drop(['type'],axis=1)"
   ]
  },
  {
   "cell_type": "code",
   "execution_count": 112,
   "metadata": {},
   "outputs": [
    {
     "data": {
      "text/html": [
       "<div>\n",
       "<style>\n",
       "    .dataframe thead tr:only-child th {\n",
       "        text-align: right;\n",
       "    }\n",
       "\n",
       "    .dataframe thead th {\n",
       "        text-align: left;\n",
       "    }\n",
       "\n",
       "    .dataframe tbody tr th {\n",
       "        vertical-align: top;\n",
       "    }\n",
       "</style>\n",
       "<table border=\"1\" class=\"dataframe\">\n",
       "  <thead>\n",
       "    <tr style=\"text-align: right;\">\n",
       "      <th></th>\n",
       "      <th>portfolio_id</th>\n",
       "      <th>desk_id</th>\n",
       "      <th>office_id</th>\n",
       "      <th>start_date</th>\n",
       "      <th>sold</th>\n",
       "      <th>euribor_rate</th>\n",
       "      <th>libor_rate</th>\n",
       "      <th>bought</th>\n",
       "      <th>creation_date</th>\n",
       "      <th>indicator_code</th>\n",
       "      <th>...</th>\n",
       "      <th>unit_return</th>\n",
       "      <th>pf_cat</th>\n",
       "      <th>profit_loss</th>\n",
       "      <th>return_type</th>\n",
       "      <th>date_gapslc</th>\n",
       "      <th>date_gapcst</th>\n",
       "      <th>return_currency</th>\n",
       "      <th>start_month</th>\n",
       "      <th>creation_month</th>\n",
       "      <th>sell_month</th>\n",
       "    </tr>\n",
       "  </thead>\n",
       "  <tbody>\n",
       "    <tr>\n",
       "      <th>0</th>\n",
       "      <td>PF00001002</td>\n",
       "      <td>DSK00001001</td>\n",
       "      <td>OFF00001002</td>\n",
       "      <td>20040720</td>\n",
       "      <td>110000000.0</td>\n",
       "      <td>0.02074</td>\n",
       "      <td>2.332216</td>\n",
       "      <td>1.098097e+08</td>\n",
       "      <td>20040720</td>\n",
       "      <td>NaN</td>\n",
       "      <td>...</td>\n",
       "      <td>0.018381</td>\n",
       "      <td>0.007685</td>\n",
       "      <td>190336.749636</td>\n",
       "      <td>0.003099</td>\n",
       "      <td>92</td>\n",
       "      <td>-92</td>\n",
       "      <td>0.018381</td>\n",
       "      <td>7</td>\n",
       "      <td>7</td>\n",
       "      <td>8</td>\n",
       "    </tr>\n",
       "    <tr>\n",
       "      <th>1</th>\n",
       "      <td>PF00001003</td>\n",
       "      <td>DSK00001002</td>\n",
       "      <td>OFF00001001</td>\n",
       "      <td>20040709</td>\n",
       "      <td>176671000.0</td>\n",
       "      <td>0.02074</td>\n",
       "      <td>5.269617</td>\n",
       "      <td>1.760084e+08</td>\n",
       "      <td>20040723</td>\n",
       "      <td>NaN</td>\n",
       "      <td>...</td>\n",
       "      <td>0.023418</td>\n",
       "      <td>0.024283</td>\n",
       "      <td>662563.265958</td>\n",
       "      <td>0.023418</td>\n",
       "      <td>89</td>\n",
       "      <td>-89</td>\n",
       "      <td>0.023418</td>\n",
       "      <td>7</td>\n",
       "      <td>7</td>\n",
       "      <td>8</td>\n",
       "    </tr>\n",
       "    <tr>\n",
       "      <th>2</th>\n",
       "      <td>PF00001005</td>\n",
       "      <td>DSK00001004</td>\n",
       "      <td>OFF00001001</td>\n",
       "      <td>20040723</td>\n",
       "      <td>56474000.0</td>\n",
       "      <td>0.02074</td>\n",
       "      <td>2.332216</td>\n",
       "      <td>5.637953e+07</td>\n",
       "      <td>20040723</td>\n",
       "      <td>NaN</td>\n",
       "      <td>...</td>\n",
       "      <td>0.018381</td>\n",
       "      <td>0.024283</td>\n",
       "      <td>94467.039667</td>\n",
       "      <td>0.022598</td>\n",
       "      <td>94</td>\n",
       "      <td>-94</td>\n",
       "      <td>0.018381</td>\n",
       "      <td>7</td>\n",
       "      <td>7</td>\n",
       "      <td>8</td>\n",
       "    </tr>\n",
       "    <tr>\n",
       "      <th>3</th>\n",
       "      <td>PF00001006</td>\n",
       "      <td>DSK00001005</td>\n",
       "      <td>OFF00001001</td>\n",
       "      <td>20040609</td>\n",
       "      <td>164813000.0</td>\n",
       "      <td>0.02074</td>\n",
       "      <td>2.332216</td>\n",
       "      <td>1.645088e+08</td>\n",
       "      <td>20040723</td>\n",
       "      <td>NaN</td>\n",
       "      <td>...</td>\n",
       "      <td>0.018381</td>\n",
       "      <td>0.024283</td>\n",
       "      <td>304158.569044</td>\n",
       "      <td>0.022598</td>\n",
       "      <td>-10</td>\n",
       "      <td>10</td>\n",
       "      <td>0.018381</td>\n",
       "      <td>6</td>\n",
       "      <td>7</td>\n",
       "      <td>7</td>\n",
       "    </tr>\n",
       "    <tr>\n",
       "      <th>4</th>\n",
       "      <td>PF00001007</td>\n",
       "      <td>DSK00001005</td>\n",
       "      <td>OFF00001002</td>\n",
       "      <td>20040609</td>\n",
       "      <td>140800000.0</td>\n",
       "      <td>0.02074</td>\n",
       "      <td>2.332216</td>\n",
       "      <td>1.405402e+08</td>\n",
       "      <td>20040723</td>\n",
       "      <td>NaN</td>\n",
       "      <td>...</td>\n",
       "      <td>0.018381</td>\n",
       "      <td>0.007685</td>\n",
       "      <td>259843.134474</td>\n",
       "      <td>0.003099</td>\n",
       "      <td>-10</td>\n",
       "      <td>10</td>\n",
       "      <td>0.018381</td>\n",
       "      <td>6</td>\n",
       "      <td>7</td>\n",
       "      <td>7</td>\n",
       "    </tr>\n",
       "  </tbody>\n",
       "</table>\n",
       "<p>5 rows × 24 columns</p>\n",
       "</div>"
      ],
      "text/plain": [
       "  portfolio_id      desk_id    office_id  start_date         sold  \\\n",
       "0   PF00001002  DSK00001001  OFF00001002    20040720  110000000.0   \n",
       "1   PF00001003  DSK00001002  OFF00001001    20040709  176671000.0   \n",
       "2   PF00001005  DSK00001004  OFF00001001    20040723   56474000.0   \n",
       "3   PF00001006  DSK00001005  OFF00001001    20040609  164813000.0   \n",
       "4   PF00001007  DSK00001005  OFF00001002    20040609  140800000.0   \n",
       "\n",
       "   euribor_rate  libor_rate        bought  creation_date indicator_code  \\\n",
       "0       0.02074    2.332216  1.098097e+08       20040720            NaN   \n",
       "1       0.02074    5.269617  1.760084e+08       20040723            NaN   \n",
       "2       0.02074    2.332216  5.637953e+07       20040723            NaN   \n",
       "3       0.02074    2.332216  1.645088e+08       20040723            NaN   \n",
       "4       0.02074    2.332216  1.405402e+08       20040723            NaN   \n",
       "\n",
       "      ...      unit_return    pf_cat    profit_loss  return_type  date_gapslc  \\\n",
       "0     ...         0.018381  0.007685  190336.749636     0.003099           92   \n",
       "1     ...         0.023418  0.024283  662563.265958     0.023418           89   \n",
       "2     ...         0.018381  0.024283   94467.039667     0.022598           94   \n",
       "3     ...         0.018381  0.024283  304158.569044     0.022598          -10   \n",
       "4     ...         0.018381  0.007685  259843.134474     0.003099          -10   \n",
       "\n",
       "   date_gapcst  return_currency  start_month  creation_month  sell_month  \n",
       "0          -92         0.018381            7               7           8  \n",
       "1          -89         0.023418            7               7           8  \n",
       "2          -94         0.018381            7               7           8  \n",
       "3           10         0.018381            6               7           7  \n",
       "4           10         0.018381            6               7           7  \n",
       "\n",
       "[5 rows x 24 columns]"
      ]
     },
     "execution_count": 112,
     "metadata": {},
     "output_type": "execute_result"
    }
   ],
   "source": [
    "data.head()"
   ]
  },
  {
   "cell_type": "raw",
   "metadata": {},
   "source": [
    "return_type"
   ]
  },
  {
   "cell_type": "code",
   "execution_count": 109,
   "metadata": {
    "collapsed": true
   },
   "outputs": [],
   "source": [
    "data['date_gapslc']=data.sell_date - data.creation_date\n",
    "data['date_gapcst'] = data.creation_date - data.sell_date"
   ]
  },
  {
   "cell_type": "code",
   "execution_count": 110,
   "metadata": {},
   "outputs": [
    {
     "data": {
      "image/png": "[encoded data removed]",
      "text/plain": [
       "<matplotlib.figure.Figure at 0x21763da08d0>"
      ]
     },
     "metadata": {},
     "output_type": "display_data"
    }
   ],
   "source": [
    "return_currency=data.groupby('currency')['return'].sum()/data.groupby('currency').count()['portfolio_id']\n",
    "sns.barplot(return_currency.index,return_currency.values)\n",
    "plt.show()\n",
    "return_currency_df = pd.DataFrame(return_currency)\n",
    "return_currency_df.columns=[['return_currency']]\n",
    "return_currency_df['currency'] = return_currency_df.index\n",
    "data=data.merge(return_currency_df,how='left',on='currency')\n",
    "data=data.drop(['currency'],axis=1)"
   ]
  },
  {
   "cell_type": "code",
   "execution_count": 111,
   "metadata": {},
   "outputs": [],
   "source": [
    "data['start_month']=data.start_date.astype(str).str[4:6].astype(np.int64)\n",
    "data['creation_month']=data.creation_date.astype(str).str[4:6].astype(np.int64)\n",
    "data['sell_month']=data.sell_date.astype(str).str[4:6].astype(np.int64)\n"
   ]
  },
  {
   "cell_type": "code",
   "execution_count": 113,
   "metadata": {},
   "outputs": [],
   "source": [
    "return_startmonth=data.groupby('start_month')['return'].sum()/data.groupby('start_month').count()['portfolio_id']\n",
    "return_startmonth_df = pd.DataFrame(return_startmonth)\n",
    "return_startmonth_df.columns=[['return_startmonth']]\n",
    "return_startmonth_df['start_month'] = return_startmonth_df.index\n",
    "data=data.merge(return_startmonth_df,how='left',on='start_month')\n",
    "data=data.drop(['start_month'],axis=1)\n",
    "#\n"
   ]
  },
  {
   "cell_type": "code",
   "execution_count": 114,
   "metadata": {},
   "outputs": [],
   "source": [
    "return_creationmonth=data.groupby('creation_month')['return'].sum()/data.groupby('creation_month').count()['portfolio_id']\n",
    "return_creationmonth_df = pd.DataFrame(return_creationmonth)\n",
    "return_creationmonth_df.columns=[['return_creationmonth']]\n",
    "return_creationmonth_df['creation_month'] = return_creationmonth_df.index\n",
    "data=data.merge(return_creationmonth_df,how='left',on='creation_month')\n",
    "data=data.drop(['creation_month'],axis=1)"
   ]
  },
  {
   "cell_type": "code",
   "execution_count": 115,
   "metadata": {},
   "outputs": [],
   "source": [
    "return_sellmonth=data.groupby('sell_month')['return'].sum()/data.groupby('sell_month').count()['portfolio_id']\n",
    "return_sellmonth_df = pd.DataFrame(return_sellmonth)\n",
    "return_sellmonth_df.columns=[['return_sellmonth']]\n",
    "return_sellmonth_df['sell_month'] = return_sellmonth_df.index\n",
    "data=data.merge(return_sellmonth_df,how='left',on='sell_month')\n",
    "data=data.drop(['sell_month'],axis=1)"
   ]
  },
  {
   "cell_type": "code",
   "execution_count": 116,
   "metadata": {},
   "outputs": [
    {
     "data": {
      "text/html": [
       "<div>\n",
       "<style>\n",
       "    .dataframe thead tr:only-child th {\n",
       "        text-align: right;\n",
       "    }\n",
       "\n",
       "    .dataframe thead th {\n",
       "        text-align: left;\n",
       "    }\n",
       "\n",
       "    .dataframe tbody tr th {\n",
       "        vertical-align: top;\n",
       "    }\n",
       "</style>\n",
       "<table border=\"1\" class=\"dataframe\">\n",
       "  <thead>\n",
       "    <tr style=\"text-align: right;\">\n",
       "      <th></th>\n",
       "      <th>portfolio_id</th>\n",
       "      <th>desk_id</th>\n",
       "      <th>office_id</th>\n",
       "      <th>start_date</th>\n",
       "      <th>sold</th>\n",
       "      <th>euribor_rate</th>\n",
       "      <th>libor_rate</th>\n",
       "      <th>bought</th>\n",
       "      <th>creation_date</th>\n",
       "      <th>indicator_code</th>\n",
       "      <th>...</th>\n",
       "      <th>unit_return</th>\n",
       "      <th>pf_cat</th>\n",
       "      <th>profit_loss</th>\n",
       "      <th>return_type</th>\n",
       "      <th>date_gapslc</th>\n",
       "      <th>date_gapcst</th>\n",
       "      <th>return_currency</th>\n",
       "      <th>return_startmonth</th>\n",
       "      <th>return_creationmonth</th>\n",
       "      <th>return_sellmonth</th>\n",
       "    </tr>\n",
       "  </thead>\n",
       "  <tbody>\n",
       "    <tr>\n",
       "      <th>0</th>\n",
       "      <td>PF00001002</td>\n",
       "      <td>DSK00001001</td>\n",
       "      <td>OFF00001002</td>\n",
       "      <td>20040720</td>\n",
       "      <td>110000000.0</td>\n",
       "      <td>0.02074</td>\n",
       "      <td>2.332216</td>\n",
       "      <td>1.098097e+08</td>\n",
       "      <td>20040720</td>\n",
       "      <td>NaN</td>\n",
       "      <td>...</td>\n",
       "      <td>0.018381</td>\n",
       "      <td>0.007685</td>\n",
       "      <td>190336.749636</td>\n",
       "      <td>0.003099</td>\n",
       "      <td>92</td>\n",
       "      <td>-92</td>\n",
       "      <td>0.018381</td>\n",
       "      <td>0.012915</td>\n",
       "      <td>0.01309</td>\n",
       "      <td>0.012433</td>\n",
       "    </tr>\n",
       "    <tr>\n",
       "      <th>1</th>\n",
       "      <td>PF00001003</td>\n",
       "      <td>DSK00001002</td>\n",
       "      <td>OFF00001001</td>\n",
       "      <td>20040709</td>\n",
       "      <td>176671000.0</td>\n",
       "      <td>0.02074</td>\n",
       "      <td>5.269617</td>\n",
       "      <td>1.760084e+08</td>\n",
       "      <td>20040723</td>\n",
       "      <td>NaN</td>\n",
       "      <td>...</td>\n",
       "      <td>0.023418</td>\n",
       "      <td>0.024283</td>\n",
       "      <td>662563.265958</td>\n",
       "      <td>0.023418</td>\n",
       "      <td>89</td>\n",
       "      <td>-89</td>\n",
       "      <td>0.023418</td>\n",
       "      <td>0.012915</td>\n",
       "      <td>0.01309</td>\n",
       "      <td>0.012433</td>\n",
       "    </tr>\n",
       "    <tr>\n",
       "      <th>2</th>\n",
       "      <td>PF00001005</td>\n",
       "      <td>DSK00001004</td>\n",
       "      <td>OFF00001001</td>\n",
       "      <td>20040723</td>\n",
       "      <td>56474000.0</td>\n",
       "      <td>0.02074</td>\n",
       "      <td>2.332216</td>\n",
       "      <td>5.637953e+07</td>\n",
       "      <td>20040723</td>\n",
       "      <td>NaN</td>\n",
       "      <td>...</td>\n",
       "      <td>0.018381</td>\n",
       "      <td>0.024283</td>\n",
       "      <td>94467.039667</td>\n",
       "      <td>0.022598</td>\n",
       "      <td>94</td>\n",
       "      <td>-94</td>\n",
       "      <td>0.018381</td>\n",
       "      <td>0.012915</td>\n",
       "      <td>0.01309</td>\n",
       "      <td>0.012433</td>\n",
       "    </tr>\n",
       "    <tr>\n",
       "      <th>3</th>\n",
       "      <td>PF00001006</td>\n",
       "      <td>DSK00001005</td>\n",
       "      <td>OFF00001001</td>\n",
       "      <td>20040609</td>\n",
       "      <td>164813000.0</td>\n",
       "      <td>0.02074</td>\n",
       "      <td>2.332216</td>\n",
       "      <td>1.645088e+08</td>\n",
       "      <td>20040723</td>\n",
       "      <td>NaN</td>\n",
       "      <td>...</td>\n",
       "      <td>0.018381</td>\n",
       "      <td>0.024283</td>\n",
       "      <td>304158.569044</td>\n",
       "      <td>0.022598</td>\n",
       "      <td>-10</td>\n",
       "      <td>10</td>\n",
       "      <td>0.018381</td>\n",
       "      <td>0.013441</td>\n",
       "      <td>0.01309</td>\n",
       "      <td>0.012517</td>\n",
       "    </tr>\n",
       "    <tr>\n",
       "      <th>4</th>\n",
       "      <td>PF00001007</td>\n",
       "      <td>DSK00001005</td>\n",
       "      <td>OFF00001002</td>\n",
       "      <td>20040609</td>\n",
       "      <td>140800000.0</td>\n",
       "      <td>0.02074</td>\n",
       "      <td>2.332216</td>\n",
       "      <td>1.405402e+08</td>\n",
       "      <td>20040723</td>\n",
       "      <td>NaN</td>\n",
       "      <td>...</td>\n",
       "      <td>0.018381</td>\n",
       "      <td>0.007685</td>\n",
       "      <td>259843.134474</td>\n",
       "      <td>0.003099</td>\n",
       "      <td>-10</td>\n",
       "      <td>10</td>\n",
       "      <td>0.018381</td>\n",
       "      <td>0.013441</td>\n",
       "      <td>0.01309</td>\n",
       "      <td>0.012517</td>\n",
       "    </tr>\n",
       "  </tbody>\n",
       "</table>\n",
       "<p>5 rows × 24 columns</p>\n",
       "</div>"
      ],
      "text/plain": [
       "  portfolio_id      desk_id    office_id  start_date         sold  \\\n",
       "0   PF00001002  DSK00001001  OFF00001002    20040720  110000000.0   \n",
       "1   PF00001003  DSK00001002  OFF00001001    20040709  176671000.0   \n",
       "2   PF00001005  DSK00001004  OFF00001001    20040723   56474000.0   \n",
       "3   PF00001006  DSK00001005  OFF00001001    20040609  164813000.0   \n",
       "4   PF00001007  DSK00001005  OFF00001002    20040609  140800000.0   \n",
       "\n",
       "   euribor_rate  libor_rate        bought  creation_date indicator_code  \\\n",
       "0       0.02074    2.332216  1.098097e+08       20040720            NaN   \n",
       "1       0.02074    5.269617  1.760084e+08       20040723            NaN   \n",
       "2       0.02074    2.332216  5.637953e+07       20040723            NaN   \n",
       "3       0.02074    2.332216  1.645088e+08       20040723            NaN   \n",
       "4       0.02074    2.332216  1.405402e+08       20040723            NaN   \n",
       "\n",
       "         ...         unit_return    pf_cat    profit_loss  return_type  \\\n",
       "0        ...            0.018381  0.007685  190336.749636     0.003099   \n",
       "1        ...            0.023418  0.024283  662563.265958     0.023418   \n",
       "2        ...            0.018381  0.024283   94467.039667     0.022598   \n",
       "3        ...            0.018381  0.024283  304158.569044     0.022598   \n",
       "4        ...            0.018381  0.007685  259843.134474     0.003099   \n",
       "\n",
       "   date_gapslc  date_gapcst  return_currency  return_startmonth  \\\n",
       "0           92          -92         0.018381           0.012915   \n",
       "1           89          -89         0.023418           0.012915   \n",
       "2           94          -94         0.018381           0.012915   \n",
       "3          -10           10         0.018381           0.013441   \n",
       "4          -10           10         0.018381           0.013441   \n",
       "\n",
       "   return_creationmonth  return_sellmonth  \n",
       "0               0.01309          0.012433  \n",
       "1               0.01309          0.012433  \n",
       "2               0.01309          0.012433  \n",
       "3               0.01309          0.012517  \n",
       "4               0.01309          0.012517  \n",
       "\n",
       "[5 rows x 24 columns]"
      ]
     },
     "execution_count": 116,
     "metadata": {},
     "output_type": "execute_result"
    }
   ],
   "source": [
    "data.head()"
   ]
  },
  {
   "cell_type": "code",
   "execution_count": 117,
   "metadata": {},
   "outputs": [
    {
     "data": {
      "text/html": [
       "<div>\n",
       "<style>\n",
       "    .dataframe thead tr:only-child th {\n",
       "        text-align: right;\n",
       "    }\n",
       "\n",
       "    .dataframe thead th {\n",
       "        text-align: left;\n",
       "    }\n",
       "\n",
       "    .dataframe tbody tr th {\n",
       "        vertical-align: top;\n",
       "    }\n",
       "</style>\n",
       "<table border=\"1\" class=\"dataframe\">\n",
       "  <thead>\n",
       "    <tr style=\"text-align: right;\">\n",
       "      <th></th>\n",
       "      <th>return_creationmonth</th>\n",
       "      <th>creation_month</th>\n",
       "    </tr>\n",
       "    <tr>\n",
       "      <th>creation_month</th>\n",
       "      <th></th>\n",
       "      <th></th>\n",
       "    </tr>\n",
       "  </thead>\n",
       "  <tbody>\n",
       "    <tr>\n",
       "      <th>1</th>\n",
       "      <td>0.013370</td>\n",
       "      <td>1</td>\n",
       "    </tr>\n",
       "    <tr>\n",
       "      <th>2</th>\n",
       "      <td>0.010923</td>\n",
       "      <td>2</td>\n",
       "    </tr>\n",
       "    <tr>\n",
       "      <th>3</th>\n",
       "      <td>0.010412</td>\n",
       "      <td>3</td>\n",
       "    </tr>\n",
       "    <tr>\n",
       "      <th>4</th>\n",
       "      <td>0.013277</td>\n",
       "      <td>4</td>\n",
       "    </tr>\n",
       "    <tr>\n",
       "      <th>5</th>\n",
       "      <td>0.011488</td>\n",
       "      <td>5</td>\n",
       "    </tr>\n",
       "    <tr>\n",
       "      <th>6</th>\n",
       "      <td>0.014069</td>\n",
       "      <td>6</td>\n",
       "    </tr>\n",
       "    <tr>\n",
       "      <th>7</th>\n",
       "      <td>0.013090</td>\n",
       "      <td>7</td>\n",
       "    </tr>\n",
       "    <tr>\n",
       "      <th>8</th>\n",
       "      <td>0.013420</td>\n",
       "      <td>8</td>\n",
       "    </tr>\n",
       "    <tr>\n",
       "      <th>9</th>\n",
       "      <td>0.016034</td>\n",
       "      <td>9</td>\n",
       "    </tr>\n",
       "    <tr>\n",
       "      <th>10</th>\n",
       "      <td>0.020641</td>\n",
       "      <td>10</td>\n",
       "    </tr>\n",
       "    <tr>\n",
       "      <th>11</th>\n",
       "      <td>0.016725</td>\n",
       "      <td>11</td>\n",
       "    </tr>\n",
       "    <tr>\n",
       "      <th>12</th>\n",
       "      <td>0.013523</td>\n",
       "      <td>12</td>\n",
       "    </tr>\n",
       "  </tbody>\n",
       "</table>\n",
       "</div>"
      ],
      "text/plain": [
       "                return_creationmonth  creation_month\n",
       "creation_month                                      \n",
       "1                           0.013370               1\n",
       "2                           0.010923               2\n",
       "3                           0.010412               3\n",
       "4                           0.013277               4\n",
       "5                           0.011488               5\n",
       "6                           0.014069               6\n",
       "7                           0.013090               7\n",
       "8                           0.013420               8\n",
       "9                           0.016034               9\n",
       "10                          0.020641              10\n",
       "11                          0.016725              11\n",
       "12                          0.013523              12"
      ]
     },
     "execution_count": 117,
     "metadata": {},
     "output_type": "execute_result"
    }
   ],
   "source": [
    "return_creationmonth_df"
   ]
  },
  {
   "cell_type": "code",
   "execution_count": 69,
   "metadata": {
    "scrolled": false
   },
   "outputs": [
    {
     "data": {
      "text/plain": [
       "Index(['portfolio_id', 'desk_id', 'office_id', 'start_date', 'sold',\n",
       "       'euribor_rate', 'libor_rate', 'bought', 'creation_date',\n",
       "       'indicator_code', 'sell_date', 'hedge_value', 'status', 'return',\n",
       "       'unit_return', 'pf_cat', 'profit_loss', 'return_type', 'date_gapslc',\n",
       "       'date_gapcst', 'return_currency', 'return_startmonth',\n",
       "       'return_creationmonth', 'return_sellmonth'],\n",
       "      dtype='object')"
      ]
     },
     "execution_count": 69,
     "metadata": {},
     "output_type": "execute_result"
    }
   ],
   "source": [
    "data.columns"
   ]
  },
  {
   "cell_type": "code",
   "execution_count": 118,
   "metadata": {
    "collapsed": true
   },
   "outputs": [],
   "source": [
    "use_col = ['portfolio_id', 'sold',\n",
    "       'euribor_rate', 'libor_rate', 'bought', \n",
    "       'unit_return', 'pf_cat', 'profit_loss', 'return_type', 'date_gapslc',\n",
    "       'date_gapcst', 'return_currency','return_startmonth',\n",
    "       'return_creationmonth', 'return_sellmonth']"
   ]
  },
  {
   "cell_type": "code",
   "execution_count": 119,
   "metadata": {
    "collapsed": true
   },
   "outputs": [],
   "source": [
    "X=data[use_col]\n",
    "y=data['return']"
   ]
  },
  {
   "cell_type": "code",
   "execution_count": 120,
   "metadata": {
    "collapsed": true
   },
   "outputs": [],
   "source": [
    "from sklearn.model_selection import train_test_split\n",
    "from sklearn.metrics import r2_score\n",
    "X_train,X_test,y_train,y_test = train_test_split(X,y,test_size=0.33,random_state=7)"
   ]
  },
  {
   "cell_type": "code",
   "execution_count": 150,
   "metadata": {
    "collapsed": true
   },
   "outputs": [],
   "source": [
    "X_train=X\n",
    "y_train=y\n",
    "X_train=X_train.drop(['portfolio_id'],axis=1)\n",
    "X_train=X_train.fillna(X_train.mean())"
   ]
  },
  {
   "cell_type": "code",
   "execution_count": 122,
   "metadata": {
    "collapsed": true
   },
   "outputs": [],
   "source": [
    "from sklearn.svm import SVR"
   ]
  },
  {
   "cell_type": "code",
   "execution_count": 123,
   "metadata": {
    "collapsed": true
   },
   "outputs": [],
   "source": [
    "#svr_rbf = SVR(kernel='rbf', C=1e3, gamma=0.1)#\n",
    "#svr_lin = SVR(kernel='linear', C=1e3)\n",
    "#svr_poly = SVR(kernel='poly', C=1e3, degree=2)\n",
    "#y_rbf = svr_rbf.fit(X_train, y_train).predict(X_train)\n",
    "#y_lin = svr_lin.fit(X_train, y_train).predict(X_train)\n",
    "#y_poly = svr_poly.fit(X_train, y_train).predict(X_train)"
   ]
  },
  {
   "cell_type": "code",
   "execution_count": 124,
   "metadata": {
    "collapsed": true
   },
   "outputs": [],
   "source": [
    "#from sklearn import linear_model\n",
    "#reg = linear_model.Ridge (alpha = .5)"
   ]
  },
  {
   "cell_type": "code",
   "execution_count": 125,
   "metadata": {
    "collapsed": true
   },
   "outputs": [],
   "source": [
    "#reg.fit(X_train,y_train)"
   ]
  },
  {
   "cell_type": "code",
   "execution_count": 126,
   "metadata": {
    "collapsed": true
   },
   "outputs": [],
   "source": [
    "#predict_ridge = reg.predict(X_train)"
   ]
  },
  {
   "cell_type": "code",
   "execution_count": 127,
   "metadata": {
    "collapsed": true
   },
   "outputs": [],
   "source": [
    "#predict_ridge"
   ]
  },
  {
   "cell_type": "code",
   "execution_count": 128,
   "metadata": {
    "collapsed": true
   },
   "outputs": [],
   "source": [
    "#y_pred = pd.DataFrame(predict_ridge)"
   ]
  },
  {
   "cell_type": "code",
   "execution_count": 129,
   "metadata": {
    "collapsed": true
   },
   "outputs": [],
   "source": [
    "#r2_score(y_train,y_pred)"
   ]
  },
  {
   "cell_type": "code",
   "execution_count": 130,
   "metadata": {
    "collapsed": true
   },
   "outputs": [],
   "source": [
    "X_test=X_test.drop(['portfolio_id'],axis=1)\n",
    "X_test=X_test.fillna(X_test.mean())\n"
   ]
  },
  {
   "cell_type": "code",
   "execution_count": 131,
   "metadata": {
    "collapsed": true
   },
   "outputs": [],
   "source": [
    "#y_pred = pd.DataFrame(y_pred)"
   ]
  },
  {
   "cell_type": "code",
   "execution_count": 132,
   "metadata": {
    "collapsed": true
   },
   "outputs": [],
   "source": [
    "#r2_score(y_test,y_pred)"
   ]
  },
  {
   "cell_type": "code",
   "execution_count": 133,
   "metadata": {
    "collapsed": true
   },
   "outputs": [],
   "source": [
    "#X_train1 = X_train.drop(['date_gapslc','date_gapcst'],axis=1)"
   ]
  },
  {
   "cell_type": "code",
   "execution_count": 134,
   "metadata": {},
   "outputs": [],
   "source": [
    "from xgboost import XGBRegressor"
   ]
  },
  {
   "cell_type": "code",
   "execution_count": 135,
   "metadata": {
    "collapsed": true
   },
   "outputs": [],
   "source": [
    "model = XGBRegressor(base_score=0.5, colsample_bylevel=1, colsample_bytree=1, gamma=0,\n",
    "       learning_rate=0.1, max_delta_step=0, max_depth=3,\n",
    "       min_child_weight=1, missing=None, n_estimators=100, nthread=-1,\n",
    "       objective='reg:linear', reg_alpha=0, reg_lambda=1,\n",
    "       scale_pos_weight=1, seed=0, silent=True, subsample=1)"
   ]
  },
  {
   "cell_type": "code",
   "execution_count": 151,
   "metadata": {},
   "outputs": [
    {
     "data": {
      "text/plain": [
       "XGBRegressor(base_score=0.5, colsample_bylevel=1, colsample_bytree=1, gamma=0,\n",
       "       learning_rate=0.1, max_delta_step=0, max_depth=3,\n",
       "       min_child_weight=1, missing=None, n_estimators=100, nthread=-1,\n",
       "       objective='reg:linear', reg_alpha=0, reg_lambda=1,\n",
       "       scale_pos_weight=1, seed=0, silent=True, subsample=1)"
      ]
     },
     "execution_count": 151,
     "metadata": {},
     "output_type": "execute_result"
    }
   ],
   "source": [
    "model.fit(X_train,y_train)"
   ]
  },
  {
   "cell_type": "code",
   "execution_count": 152,
   "metadata": {},
   "outputs": [
    {
     "data": {
      "text/plain": [
       "array([ 0.02843484,  0.05344978,  0.03154689, ...,  0.00493148,\n",
       "        0.00448221,  0.00493145], dtype=float32)"
      ]
     },
     "execution_count": 152,
     "metadata": {},
     "output_type": "execute_result"
    }
   ],
   "source": [
    "model.predict(X_train)"
   ]
  },
  {
   "cell_type": "code",
   "execution_count": 153,
   "metadata": {},
   "outputs": [
    {
     "data": {
      "text/plain": [
       "0.88389719058536431"
      ]
     },
     "execution_count": 153,
     "metadata": {},
     "output_type": "execute_result"
    }
   ],
   "source": [
    "r2_score(y_train,pd.DataFrame(model.predict(X_train)))"
   ]
  },
  {
   "cell_type": "code",
   "execution_count": 50,
   "metadata": {
    "collapsed": true
   },
   "outputs": [],
   "source": [
    "#X_test1 = X_test.drop(['date_gapslc','date_gapcst'],axis=1)"
   ]
  },
  {
   "cell_type": "code",
   "execution_count": 51,
   "metadata": {
    "collapsed": true
   },
   "outputs": [],
   "source": [
    "#r2_score(y_test,pd.DataFrame(model.predict(X_test)))"
   ]
  },
  {
   "cell_type": "markdown",
   "metadata": {},
   "source": [
    "# Covert your Test data into expected form"
   ]
  },
  {
   "cell_type": "code",
   "execution_count": 139,
   "metadata": {
    "collapsed": true
   },
   "outputs": [],
   "source": [
    "test = pd.read_csv('test.csv')\n",
    "pfid=test.portfolio_id "
   ]
  },
  {
   "cell_type": "code",
   "execution_count": 140,
   "metadata": {
    "scrolled": true
   },
   "outputs": [
    {
     "data": {
      "text/html": [
       "<div>\n",
       "<style>\n",
       "    .dataframe thead tr:only-child th {\n",
       "        text-align: right;\n",
       "    }\n",
       "\n",
       "    .dataframe thead th {\n",
       "        text-align: left;\n",
       "    }\n",
       "\n",
       "    .dataframe tbody tr th {\n",
       "        vertical-align: top;\n",
       "    }\n",
       "</style>\n",
       "<table border=\"1\" class=\"dataframe\">\n",
       "  <thead>\n",
       "    <tr style=\"text-align: right;\">\n",
       "      <th></th>\n",
       "      <th>portfolio_id</th>\n",
       "      <th>desk_id</th>\n",
       "      <th>office_id</th>\n",
       "      <th>pf_category</th>\n",
       "      <th>start_date</th>\n",
       "      <th>sold</th>\n",
       "      <th>country_code</th>\n",
       "      <th>euribor_rate</th>\n",
       "      <th>currency</th>\n",
       "      <th>libor_rate</th>\n",
       "      <th>bought</th>\n",
       "      <th>creation_date</th>\n",
       "      <th>indicator_code</th>\n",
       "      <th>sell_date</th>\n",
       "      <th>type</th>\n",
       "      <th>hedge_value</th>\n",
       "      <th>status</th>\n",
       "    </tr>\n",
       "  </thead>\n",
       "  <tbody>\n",
       "    <tr>\n",
       "      <th>0</th>\n",
       "      <td>PF00001001</td>\n",
       "      <td>DSK00001001</td>\n",
       "      <td>OFF00001001</td>\n",
       "      <td>A</td>\n",
       "      <td>20040720</td>\n",
       "      <td>171831000.0</td>\n",
       "      <td>T</td>\n",
       "      <td>0.02074</td>\n",
       "      <td>USD</td>\n",
       "      <td>2.332216</td>\n",
       "      <td>1.715337e+08</td>\n",
       "      <td>20040720</td>\n",
       "      <td>NaN</td>\n",
       "      <td>20040812</td>\n",
       "      <td>A</td>\n",
       "      <td>NaN</td>\n",
       "      <td>NaN</td>\n",
       "    </tr>\n",
       "    <tr>\n",
       "      <th>1</th>\n",
       "      <td>PF00001004</td>\n",
       "      <td>DSK00001003</td>\n",
       "      <td>OFF00001002</td>\n",
       "      <td>B</td>\n",
       "      <td>20040723</td>\n",
       "      <td>56485000.0</td>\n",
       "      <td>T</td>\n",
       "      <td>0.02074</td>\n",
       "      <td>USD</td>\n",
       "      <td>2.332216</td>\n",
       "      <td>5.638038e+07</td>\n",
       "      <td>20040723</td>\n",
       "      <td>NaN</td>\n",
       "      <td>20040719</td>\n",
       "      <td>B</td>\n",
       "      <td>NaN</td>\n",
       "      <td>NaN</td>\n",
       "    </tr>\n",
       "    <tr>\n",
       "      <th>2</th>\n",
       "      <td>PF00001009</td>\n",
       "      <td>DSK00001007</td>\n",
       "      <td>OFF00001001</td>\n",
       "      <td>A</td>\n",
       "      <td>20040607</td>\n",
       "      <td>41734000.0</td>\n",
       "      <td>T</td>\n",
       "      <td>0.02074</td>\n",
       "      <td>USD</td>\n",
       "      <td>2.332216</td>\n",
       "      <td>4.166179e+07</td>\n",
       "      <td>20040726</td>\n",
       "      <td>NaN</td>\n",
       "      <td>20040709</td>\n",
       "      <td>A</td>\n",
       "      <td>NaN</td>\n",
       "      <td>NaN</td>\n",
       "    </tr>\n",
       "    <tr>\n",
       "      <th>3</th>\n",
       "      <td>PF00001013</td>\n",
       "      <td>DSK00001011</td>\n",
       "      <td>OFF00001001</td>\n",
       "      <td>A</td>\n",
       "      <td>20040716</td>\n",
       "      <td>82951000.0</td>\n",
       "      <td>T</td>\n",
       "      <td>0.02074</td>\n",
       "      <td>USD</td>\n",
       "      <td>2.332216</td>\n",
       "      <td>8.250936e+07</td>\n",
       "      <td>20040726</td>\n",
       "      <td>NaN</td>\n",
       "      <td>20041019</td>\n",
       "      <td>A</td>\n",
       "      <td>NaN</td>\n",
       "      <td>NaN</td>\n",
       "    </tr>\n",
       "    <tr>\n",
       "      <th>4</th>\n",
       "      <td>PF00001014</td>\n",
       "      <td>DSK00001012</td>\n",
       "      <td>OFF00001001</td>\n",
       "      <td>A</td>\n",
       "      <td>20040713</td>\n",
       "      <td>73293000.0</td>\n",
       "      <td>T</td>\n",
       "      <td>0.02074</td>\n",
       "      <td>USD</td>\n",
       "      <td>2.332216</td>\n",
       "      <td>7.317055e+07</td>\n",
       "      <td>20040726</td>\n",
       "      <td>NaN</td>\n",
       "      <td>20040813</td>\n",
       "      <td>A</td>\n",
       "      <td>NaN</td>\n",
       "      <td>NaN</td>\n",
       "    </tr>\n",
       "  </tbody>\n",
       "</table>\n",
       "</div>"
      ],
      "text/plain": [
       "  portfolio_id      desk_id    office_id pf_category  start_date         sold  \\\n",
       "0   PF00001001  DSK00001001  OFF00001001           A    20040720  171831000.0   \n",
       "1   PF00001004  DSK00001003  OFF00001002           B    20040723   56485000.0   \n",
       "2   PF00001009  DSK00001007  OFF00001001           A    20040607   41734000.0   \n",
       "3   PF00001013  DSK00001011  OFF00001001           A    20040716   82951000.0   \n",
       "4   PF00001014  DSK00001012  OFF00001001           A    20040713   73293000.0   \n",
       "\n",
       "  country_code  euribor_rate currency  libor_rate        bought  \\\n",
       "0            T       0.02074      USD    2.332216  1.715337e+08   \n",
       "1            T       0.02074      USD    2.332216  5.638038e+07   \n",
       "2            T       0.02074      USD    2.332216  4.166179e+07   \n",
       "3            T       0.02074      USD    2.332216  8.250936e+07   \n",
       "4            T       0.02074      USD    2.332216  7.317055e+07   \n",
       "\n",
       "   creation_date indicator_code  sell_date type hedge_value status  \n",
       "0       20040720            NaN   20040812    A         NaN    NaN  \n",
       "1       20040723            NaN   20040719    B         NaN    NaN  \n",
       "2       20040726            NaN   20040709    A         NaN    NaN  \n",
       "3       20040726            NaN   20041019    A         NaN    NaN  \n",
       "4       20040726            NaN   20040813    A         NaN    NaN  "
      ]
     },
     "execution_count": 140,
     "metadata": {},
     "output_type": "execute_result"
    }
   ],
   "source": [
    "test.head()"
   ]
  },
  {
   "cell_type": "code",
   "execution_count": 141,
   "metadata": {},
   "outputs": [],
   "source": [
    "test['start_month']=test.start_date.astype(str).str[4:6].astype(np.int64)\n",
    "test['creation_month']=test.creation_date.astype(str).str[4:6].astype(np.int64)\n",
    "test['sell_month']=test.sell_date.astype(str).str[4:6].astype(np.int64)\n"
   ]
  },
  {
   "cell_type": "code",
   "execution_count": 142,
   "metadata": {},
   "outputs": [
    {
     "data": {
      "text/html": [
       "<div>\n",
       "<style>\n",
       "    .dataframe thead tr:only-child th {\n",
       "        text-align: right;\n",
       "    }\n",
       "\n",
       "    .dataframe thead th {\n",
       "        text-align: left;\n",
       "    }\n",
       "\n",
       "    .dataframe tbody tr th {\n",
       "        vertical-align: top;\n",
       "    }\n",
       "</style>\n",
       "<table border=\"1\" class=\"dataframe\">\n",
       "  <thead>\n",
       "    <tr style=\"text-align: right;\">\n",
       "      <th></th>\n",
       "      <th>return_creationmonth</th>\n",
       "      <th>creation_month</th>\n",
       "    </tr>\n",
       "    <tr>\n",
       "      <th>creation_month</th>\n",
       "      <th></th>\n",
       "      <th></th>\n",
       "    </tr>\n",
       "  </thead>\n",
       "  <tbody>\n",
       "    <tr>\n",
       "      <th>1</th>\n",
       "      <td>0.013370</td>\n",
       "      <td>1</td>\n",
       "    </tr>\n",
       "    <tr>\n",
       "      <th>2</th>\n",
       "      <td>0.010923</td>\n",
       "      <td>2</td>\n",
       "    </tr>\n",
       "    <tr>\n",
       "      <th>3</th>\n",
       "      <td>0.010412</td>\n",
       "      <td>3</td>\n",
       "    </tr>\n",
       "    <tr>\n",
       "      <th>4</th>\n",
       "      <td>0.013277</td>\n",
       "      <td>4</td>\n",
       "    </tr>\n",
       "    <tr>\n",
       "      <th>5</th>\n",
       "      <td>0.011488</td>\n",
       "      <td>5</td>\n",
       "    </tr>\n",
       "    <tr>\n",
       "      <th>6</th>\n",
       "      <td>0.014069</td>\n",
       "      <td>6</td>\n",
       "    </tr>\n",
       "    <tr>\n",
       "      <th>7</th>\n",
       "      <td>0.013090</td>\n",
       "      <td>7</td>\n",
       "    </tr>\n",
       "    <tr>\n",
       "      <th>8</th>\n",
       "      <td>0.013420</td>\n",
       "      <td>8</td>\n",
       "    </tr>\n",
       "    <tr>\n",
       "      <th>9</th>\n",
       "      <td>0.016034</td>\n",
       "      <td>9</td>\n",
       "    </tr>\n",
       "    <tr>\n",
       "      <th>10</th>\n",
       "      <td>0.020641</td>\n",
       "      <td>10</td>\n",
       "    </tr>\n",
       "    <tr>\n",
       "      <th>11</th>\n",
       "      <td>0.016725</td>\n",
       "      <td>11</td>\n",
       "    </tr>\n",
       "    <tr>\n",
       "      <th>12</th>\n",
       "      <td>0.013523</td>\n",
       "      <td>12</td>\n",
       "    </tr>\n",
       "  </tbody>\n",
       "</table>\n",
       "</div>"
      ],
      "text/plain": [
       "                return_creationmonth  creation_month\n",
       "creation_month                                      \n",
       "1                           0.013370               1\n",
       "2                           0.010923               2\n",
       "3                           0.010412               3\n",
       "4                           0.013277               4\n",
       "5                           0.011488               5\n",
       "6                           0.014069               6\n",
       "7                           0.013090               7\n",
       "8                           0.013420               8\n",
       "9                           0.016034               9\n",
       "10                          0.020641              10\n",
       "11                          0.016725              11\n",
       "12                          0.013523              12"
      ]
     },
     "execution_count": 142,
     "metadata": {},
     "output_type": "execute_result"
    }
   ],
   "source": [
    "return_creationmonth_df"
   ]
  },
  {
   "cell_type": "code",
   "execution_count": 143,
   "metadata": {},
   "outputs": [],
   "source": [
    "test=test.merge(temp,how='left',on='country_code')\n",
    "test=test.merge(pf_cat_df,how='left',on='pf_category')\n",
    "test['profit_loss']=test.sold-test.bought\n",
    "test=test.merge(return_type_df,how='left',on='type')\n",
    "test['date_gapslc']=test.sell_date - test.creation_date\n",
    "test['date_gapcst'] = test.creation_date - test.sell_date\n",
    "test=test.merge(return_currency_df,how='left',on='currency')\n",
    "test=test.merge(return_startmonth_df,how='left',on='start_month')\n",
    "test=test.merge(return_creationmonth_df,how='left',on='creation_month')\n",
    "test=test.merge(return_sellmonth_df,how='left',on='sell_month')\n",
    "\n",
    "test=test[use_col]\n",
    "#data=data.drop([,'pf_category'],axis=1)"
   ]
  },
  {
   "cell_type": "code",
   "execution_count": 144,
   "metadata": {
    "collapsed": true
   },
   "outputs": [],
   "source": [
    "test=test.drop(['portfolio_id'],axis=1)"
   ]
  },
  {
   "cell_type": "code",
   "execution_count": 145,
   "metadata": {},
   "outputs": [
    {
     "data": {
      "text/html": [
       "<div>\n",
       "<style>\n",
       "    .dataframe thead tr:only-child th {\n",
       "        text-align: right;\n",
       "    }\n",
       "\n",
       "    .dataframe thead th {\n",
       "        text-align: left;\n",
       "    }\n",
       "\n",
       "    .dataframe tbody tr th {\n",
       "        vertical-align: top;\n",
       "    }\n",
       "</style>\n",
       "<table border=\"1\" class=\"dataframe\">\n",
       "  <thead>\n",
       "    <tr style=\"text-align: right;\">\n",
       "      <th></th>\n",
       "      <th>sold</th>\n",
       "      <th>euribor_rate</th>\n",
       "      <th>libor_rate</th>\n",
       "      <th>bought</th>\n",
       "      <th>unit_return</th>\n",
       "      <th>pf_cat</th>\n",
       "      <th>profit_loss</th>\n",
       "      <th>return_type</th>\n",
       "      <th>date_gapslc</th>\n",
       "      <th>date_gapcst</th>\n",
       "      <th>return_currency</th>\n",
       "      <th>return_startmonth</th>\n",
       "      <th>return_creationmonth</th>\n",
       "      <th>return_sellmonth</th>\n",
       "    </tr>\n",
       "  </thead>\n",
       "  <tbody>\n",
       "    <tr>\n",
       "      <th>6687</th>\n",
       "      <td>55000000.0</td>\n",
       "      <td>0.00113</td>\n",
       "      <td>0.683943</td>\n",
       "      <td>5.496910e+07</td>\n",
       "      <td>0.018381</td>\n",
       "      <td>0.007685</td>\n",
       "      <td>30904.846831</td>\n",
       "      <td>0.003099</td>\n",
       "      <td>302</td>\n",
       "      <td>-302</td>\n",
       "      <td>0.018381</td>\n",
       "      <td>0.013441</td>\n",
       "      <td>0.014069</td>\n",
       "      <td>0.015395</td>\n",
       "    </tr>\n",
       "    <tr>\n",
       "      <th>2700</th>\n",
       "      <td>58080000.0</td>\n",
       "      <td>0.00428</td>\n",
       "      <td>0.982687</td>\n",
       "      <td>5.781863e+07</td>\n",
       "      <td>0.061187</td>\n",
       "      <td>0.061714</td>\n",
       "      <td>261371.880539</td>\n",
       "      <td>0.011170</td>\n",
       "      <td>5</td>\n",
       "      <td>-5</td>\n",
       "      <td>0.061187</td>\n",
       "      <td>0.013441</td>\n",
       "      <td>0.014069</td>\n",
       "      <td>0.011280</td>\n",
       "    </tr>\n",
       "    <tr>\n",
       "      <th>2464</th>\n",
       "      <td>11000000.0</td>\n",
       "      <td>0.00415</td>\n",
       "      <td>1.310573</td>\n",
       "      <td>1.099888e+07</td>\n",
       "      <td>0.023418</td>\n",
       "      <td>0.007685</td>\n",
       "      <td>1117.968555</td>\n",
       "      <td>0.023418</td>\n",
       "      <td>7</td>\n",
       "      <td>-7</td>\n",
       "      <td>0.023418</td>\n",
       "      <td>0.010423</td>\n",
       "      <td>0.010412</td>\n",
       "      <td>0.010659</td>\n",
       "    </tr>\n",
       "    <tr>\n",
       "      <th>9152</th>\n",
       "      <td>26554000.0</td>\n",
       "      <td>-0.00017</td>\n",
       "      <td>-0.559409</td>\n",
       "      <td>2.655311e+07</td>\n",
       "      <td>0.006641</td>\n",
       "      <td>0.006618</td>\n",
       "      <td>885.133333</td>\n",
       "      <td>0.011170</td>\n",
       "      <td>78</td>\n",
       "      <td>-78</td>\n",
       "      <td>0.006641</td>\n",
       "      <td>0.013847</td>\n",
       "      <td>0.013277</td>\n",
       "      <td>0.013480</td>\n",
       "    </tr>\n",
       "    <tr>\n",
       "      <th>1749</th>\n",
       "      <td>37345000.0</td>\n",
       "      <td>0.00931</td>\n",
       "      <td>1.517774</td>\n",
       "      <td>3.734386e+07</td>\n",
       "      <td>0.018381</td>\n",
       "      <td>0.024283</td>\n",
       "      <td>1141.062351</td>\n",
       "      <td>0.022598</td>\n",
       "      <td>1</td>\n",
       "      <td>-1</td>\n",
       "      <td>0.018381</td>\n",
       "      <td>0.012035</td>\n",
       "      <td>0.011488</td>\n",
       "      <td>0.013480</td>\n",
       "    </tr>\n",
       "  </tbody>\n",
       "</table>\n",
       "</div>"
      ],
      "text/plain": [
       "            sold  euribor_rate  libor_rate        bought  unit_return  \\\n",
       "6687  55000000.0       0.00113    0.683943  5.496910e+07     0.018381   \n",
       "2700  58080000.0       0.00428    0.982687  5.781863e+07     0.061187   \n",
       "2464  11000000.0       0.00415    1.310573  1.099888e+07     0.023418   \n",
       "9152  26554000.0      -0.00017   -0.559409  2.655311e+07     0.006641   \n",
       "1749  37345000.0       0.00931    1.517774  3.734386e+07     0.018381   \n",
       "\n",
       "        pf_cat    profit_loss  return_type  date_gapslc  date_gapcst  \\\n",
       "6687  0.007685   30904.846831     0.003099          302         -302   \n",
       "2700  0.061714  261371.880539     0.011170            5           -5   \n",
       "2464  0.007685    1117.968555     0.023418            7           -7   \n",
       "9152  0.006618     885.133333     0.011170           78          -78   \n",
       "1749  0.024283    1141.062351     0.022598            1           -1   \n",
       "\n",
       "      return_currency  return_startmonth  return_creationmonth  \\\n",
       "6687         0.018381           0.013441              0.014069   \n",
       "2700         0.061187           0.013441              0.014069   \n",
       "2464         0.023418           0.010423              0.010412   \n",
       "9152         0.006641           0.013847              0.013277   \n",
       "1749         0.018381           0.012035              0.011488   \n",
       "\n",
       "      return_sellmonth  \n",
       "6687          0.015395  \n",
       "2700          0.011280  \n",
       "2464          0.010659  \n",
       "9152          0.013480  \n",
       "1749          0.013480  "
      ]
     },
     "execution_count": 145,
     "metadata": {},
     "output_type": "execute_result"
    }
   ],
   "source": [
    "X_train.head()"
   ]
  },
  {
   "cell_type": "code",
   "execution_count": 154,
   "metadata": {},
   "outputs": [
    {
     "data": {
      "text/html": [
       "<div>\n",
       "<style>\n",
       "    .dataframe thead tr:only-child th {\n",
       "        text-align: right;\n",
       "    }\n",
       "\n",
       "    .dataframe thead th {\n",
       "        text-align: left;\n",
       "    }\n",
       "\n",
       "    .dataframe tbody tr th {\n",
       "        vertical-align: top;\n",
       "    }\n",
       "</style>\n",
       "<table border=\"1\" class=\"dataframe\">\n",
       "  <thead>\n",
       "    <tr style=\"text-align: right;\">\n",
       "      <th></th>\n",
       "      <th>0</th>\n",
       "    </tr>\n",
       "  </thead>\n",
       "  <tbody>\n",
       "    <tr>\n",
       "      <th>0</th>\n",
       "      <td>0.030005</td>\n",
       "    </tr>\n",
       "    <tr>\n",
       "      <th>1</th>\n",
       "      <td>0.027303</td>\n",
       "    </tr>\n",
       "    <tr>\n",
       "      <th>2</th>\n",
       "      <td>0.024705</td>\n",
       "    </tr>\n",
       "    <tr>\n",
       "      <th>3</th>\n",
       "      <td>0.027322</td>\n",
       "    </tr>\n",
       "    <tr>\n",
       "      <th>4</th>\n",
       "      <td>0.028267</td>\n",
       "    </tr>\n",
       "  </tbody>\n",
       "</table>\n",
       "</div>"
      ],
      "text/plain": [
       "          0\n",
       "0  0.030005\n",
       "1  0.027303\n",
       "2  0.024705\n",
       "3  0.027322\n",
       "4  0.028267"
      ]
     },
     "execution_count": 154,
     "metadata": {},
     "output_type": "execute_result"
    }
   ],
   "source": [
    "pred=pd.DataFrame(model.predict(test))\n",
    "pred.head()"
   ]
  },
  {
   "cell_type": "code",
   "execution_count": 155,
   "metadata": {},
   "outputs": [
    {
     "data": {
      "text/html": [
       "<div>\n",
       "<style>\n",
       "    .dataframe thead tr:only-child th {\n",
       "        text-align: right;\n",
       "    }\n",
       "\n",
       "    .dataframe thead th {\n",
       "        text-align: left;\n",
       "    }\n",
       "\n",
       "    .dataframe tbody tr th {\n",
       "        vertical-align: top;\n",
       "    }\n",
       "</style>\n",
       "<table border=\"1\" class=\"dataframe\">\n",
       "  <thead>\n",
       "    <tr style=\"text-align: right;\">\n",
       "      <th></th>\n",
       "      <th>portfolio_id</th>\n",
       "      <th>return</th>\n",
       "    </tr>\n",
       "  </thead>\n",
       "  <tbody>\n",
       "    <tr>\n",
       "      <th>0</th>\n",
       "      <td>PF00001001</td>\n",
       "      <td>0.030005</td>\n",
       "    </tr>\n",
       "    <tr>\n",
       "      <th>1</th>\n",
       "      <td>PF00001004</td>\n",
       "      <td>0.027303</td>\n",
       "    </tr>\n",
       "    <tr>\n",
       "      <th>2</th>\n",
       "      <td>PF00001009</td>\n",
       "      <td>0.024705</td>\n",
       "    </tr>\n",
       "    <tr>\n",
       "      <th>3</th>\n",
       "      <td>PF00001013</td>\n",
       "      <td>0.027322</td>\n",
       "    </tr>\n",
       "    <tr>\n",
       "      <th>4</th>\n",
       "      <td>PF00001014</td>\n",
       "      <td>0.028267</td>\n",
       "    </tr>\n",
       "  </tbody>\n",
       "</table>\n",
       "</div>"
      ],
      "text/plain": [
       "  portfolio_id    return\n",
       "0   PF00001001  0.030005\n",
       "1   PF00001004  0.027303\n",
       "2   PF00001009  0.024705\n",
       "3   PF00001013  0.027322\n",
       "4   PF00001014  0.028267"
      ]
     },
     "execution_count": 155,
     "metadata": {},
     "output_type": "execute_result"
    }
   ],
   "source": [
    "answerw=pd.concat([pfid,pred],axis=1)\n",
    "answerw.columns=[['portfolio_id','return']]\n",
    "answerw.head()"
   ]
  },
  {
   "cell_type": "code",
   "execution_count": 156,
   "metadata": {
    "collapsed": true
   },
   "outputs": [],
   "source": [
    "answerw.to_csv('sol2.csv',index=False)"
   ]
  },
  {
   "cell_type": "code",
   "execution_count": null,
   "metadata": {
    "collapsed": true
   },
   "outputs": [],
   "source": []
  }
 ],
 "metadata": {
  "kernelspec": {
   "display_name": "Python 3",
   "language": "python",
   "name": "python3"
  },
  "language_info": {
   "codemirror_mode": {
    "name": "ipython",
    "version": 3
   },
   "file_extension": ".py",
   "mimetype": "text/x-python",
   "name": "python",
   "nbconvert_exporter": "python",
   "pygments_lexer": "ipython3",
   "version": "3.5.4"
  }
 },
 "nbformat": 4,
 "nbformat_minor": 2
}
